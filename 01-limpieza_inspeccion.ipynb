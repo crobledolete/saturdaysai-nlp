{
 "cells": [
  {
   "cell_type": "markdown",
   "id": "57eee947-1289-4798-9aa4-9ef4d1450e00",
   "metadata": {
    "tags": []
   },
   "source": [
    "# Limpieza e inspección de los datos\n",
    "Para organizar nuestro notebook (script), dedicaremos la celda inicial a la carga de librerías necesarias para la ejecución del script completo. Si necesitamos instalar algunas de ellas porque no estén disponibles en nuestro repositorio, las instalaremos y dejaremos indicado que hemos necesitado instalarlas. Esto servirá para la configuración del entorno de trabajo de futuros proyectos. :)\n",
    "\n",
    "El notebook está esturcturado como sigue:\n",
    "\n",
    "- Bloque A: carga de datos.\n",
    "- Bloque B: inspección de datos.\n",
    "- Bloque C: limpieza y adecuación.\n",
    "- Bloque D: visualización.\n",
    "- Bloque E: exportación del conjunto resultante. "
   ]
  },
  {
   "cell_type": "markdown",
   "id": "cff0cf39-2328-45ee-9119-2301b96102a0",
   "metadata": {},
   "source": [
    "## Librerías"
   ]
  },
  {
   "cell_type": "code",
   "execution_count": null,
   "id": "38f3595c-aaf1-4aa3-8e29-be8d8f423501",
   "metadata": {},
   "outputs": [],
   "source": [
    "import pandas as ??"
   ]
  },
  {
   "cell_type": "code",
   "execution_count": null,
   "id": "da256b0b-c7f8-449a-8386-142e09d5acad",
   "metadata": {},
   "outputs": [],
   "source": [
    "import matplotlib.pyplot as plt \n",
    "import seaborn as sns\n",
    "import missingno as msno\n",
    "from wordcloud import WordCloud, STOPWORDS\n",
    "\n",
    "from langdetect import detect\n",
    "\n",
    "import nltk\n",
    "#nltk.download('stopwords')"
   ]
  },
  {
   "cell_type": "code",
   "execution_count": null,
   "id": "402e3c43-e065-4bc2-a298-f52276561f54",
   "metadata": {},
   "outputs": [],
   "source": [
    "# importar stopwords desde el módulo corpus de nltk\n",
    "from ???.??? import ???"
   ]
  },
  {
   "cell_type": "markdown",
   "id": "bc548d59-c4cf-4115-badb-3a82eeff5aaf",
   "metadata": {},
   "source": [
    "## BLOQUE A: Carga de los datos\n",
    "\n",
    "**Pandas**: librería más popular de python  que proporciona las herramientas y estructuras necesarias para manipular y analizar datos.\n",
    "La estructura básica de Pandas es el **DataFrame**, una colección ordenada de columnas con nombres y tipos, donde una sola fila representa un único caso (observación) y las columnas representan atributos particulares.\n",
    "\n",
    "Guía: https://pandas.pydata.org/docs/getting_started/index.html"
   ]
  },
  {
   "cell_type": "code",
   "execution_count": null,
   "id": "d7d6f2c0-eb4d-4b0b-b366-8141c9adf26d",
   "metadata": {},
   "outputs": [],
   "source": [
    "# Leemos el CSV que contiene los datos y lo cargamos en memoria\n",
    "df = pd.???('data/Airlines_tweets.csv')"
   ]
  },
  {
   "cell_type": "markdown",
   "id": "0a69c032-f10d-42be-bb37-337601e49f55",
   "metadata": {},
   "source": [
    "## BLOQUE B: inspección de los datos\n",
    "El objetivo de la inspección es la familiarización con el conjunto de datos. Algunas preguntas iniciales que podría estar bien hacerse pueden ser:\n",
    "\n",
    "- ¿En qué tipo de objeto están almacenados los datos? ¿Cuál es su dimensión?\n",
    "- ¿Hay datos ausentes?\n",
    "- ¿Que tipos diferentes de datos hay?\n",
    "- ..."
   ]
  },
  {
   "cell_type": "code",
   "execution_count": null,
   "id": "7a36f921-270f-43e9-b6de-9369d9da35ed",
   "metadata": {},
   "outputs": [],
   "source": [
    "# Para ver el tipo de objeto con el que estamos trabajando\n",
    "???(df)"
   ]
  },
  {
   "cell_type": "code",
   "execution_count": null,
   "id": "2af6fb1c-a090-45cf-89a3-eea1cb3b5966",
   "metadata": {},
   "outputs": [],
   "source": [
    "# Dimensiones del dataframe\n",
    "df.???"
   ]
  },
  {
   "cell_type": "code",
   "execution_count": null,
   "id": "da0edfd6-3a69-4e37-82b5-0c13176cedc5",
   "metadata": {},
   "outputs": [],
   "source": [
    "# Otra manera más interesante de proporcionar la misma información anterior\n",
    "print(f\"Hay un dataframe de {df.shape[???]} filas y {df.shape[???]} columnas.\")"
   ]
  },
  {
   "cell_type": "code",
   "execution_count": null,
   "id": "922fb8b3-9f3a-4e72-b176-730570fedbcb",
   "metadata": {},
   "outputs": [],
   "source": [
    "# Resumen conciso del dataframe\n",
    "???.info()"
   ]
  },
  {
   "cell_type": "code",
   "execution_count": null,
   "id": "db893792",
   "metadata": {},
   "outputs": [],
   "source": [
    "# Información descriptiva de las variables numéricas\n",
    "df.???()"
   ]
  },
  {
   "cell_type": "code",
   "execution_count": null,
   "id": "e17f4927-a123-4093-a586-d31016401900",
   "metadata": {},
   "outputs": [],
   "source": [
    "# Mostrar las primeras 5 filas\n",
    "df.???()"
   ]
  },
  {
   "cell_type": "code",
   "execution_count": null,
   "id": "f82b6c27-d309-4de5-89d6-04854ca910db",
   "metadata": {},
   "outputs": [],
   "source": [
    "# Mostrar las últimas 5 filas\n",
    "df.???()"
   ]
  },
  {
   "cell_type": "code",
   "execution_count": null,
   "id": "505a343c-4113-4bad-88e2-0b10fbb3b3b7",
   "metadata": {},
   "outputs": [],
   "source": [
    "# Gráfico para ver valores faltantes\n",
    "msno.bar(???)"
   ]
  },
  {
   "cell_type": "markdown",
   "id": "c7511719-4a74-4496-98a4-72fca2f77d77",
   "metadata": {},
   "source": [
    "## BLOQUE C: limpieza y adecuación\n",
    "Algunos aspectos a tratar en este bloque son:\n",
    "\n",
    "- Ausencias: eliminaremos las columnas con valores faltantes.\n",
    "- Elimnaremos también las columnas que no son utiles a nuestro objetivo (tweet_id, tweet_created)\n",
    "- Texto: limpieza y adecuación del texto"
   ]
  },
  {
   "cell_type": "code",
   "execution_count": null,
   "id": "afb70946-e549-4e07-b3d4-ce7346da0f52",
   "metadata": {
    "tags": []
   },
   "outputs": [],
   "source": [
    "# Eliminación de columnas/variables que contengan datos ausentes\n",
    "df = df.???(axis=1) "
   ]
  },
  {
   "cell_type": "code",
   "execution_count": null,
   "id": "ad13f79f",
   "metadata": {},
   "outputs": [],
   "source": [
    "# Comprobación de eliminación de datos ausentes\n",
    "msno.bar(df)"
   ]
  },
  {
   "cell_type": "code",
   "execution_count": null,
   "id": "1cc4652f-8fdc-4426-a514-30307960a8b8",
   "metadata": {},
   "outputs": [],
   "source": [
    "# Eliminación de columnas que no son útiles para el posterior modelado.\n",
    "# Nos quedaremos solo con 'airline_sentiment', 'airline', y 'text'.\n",
    "df = df.drop(columns=['???', '???','???',\n",
    "                      '???','???'])"
   ]
  },
  {
   "cell_type": "code",
   "execution_count": null,
   "id": "59026d81-1ce2-4f83-9450-8c82547b712f",
   "metadata": {},
   "outputs": [],
   "source": [
    "# Detección del idioma en el que está escrito cada tweet\n",
    "df['language'] = df['text'].apply(detect)"
   ]
  },
  {
   "cell_type": "code",
   "execution_count": null,
   "id": "4b54ed78-63ee-4807-aefe-c44ed19c86a3",
   "metadata": {
    "tags": []
   },
   "outputs": [],
   "source": [
    "# ¿En que idioma están escritos los tweets? ¿Cuantos tweets tenemos para cada idioma?\n",
    "df['???'].value_counts()"
   ]
  },
  {
   "cell_type": "code",
   "execution_count": null,
   "id": "af5b8912-3e86-4c02-b551-961060ffa3f5",
   "metadata": {},
   "outputs": [],
   "source": [
    "# Nos quedamos con aquellos que están escritos únicamente en inglés\n",
    "df = df[df['language']=='???']"
   ]
  },
  {
   "cell_type": "code",
   "execution_count": null,
   "id": "30709549-8678-49d5-952c-78deed951eae",
   "metadata": {},
   "outputs": [],
   "source": [
    "# Comprobamos las dimensiones actuales del dataframe\n",
    "df.???"
   ]
  },
  {
   "cell_type": "markdown",
   "id": "537410ec-f20c-4fd2-a635-d7d9fc727844",
   "metadata": {
    "tags": []
   },
   "source": [
    "## BLOQUE D: visualización\n",
    "En este bloque utilizaremos las librerias [matplotlib](https://matplotlib.org/) y [seaborn](https://seaborn.pydata.org/) para crear unas sencillas representaciones de los datos a modo general y descriptivo, mientras que para nos ayudaremos de la librería [wordcloud](https://amueller.github.io/word_cloud/) para poder crear visualizaciones acerca de los textos que vamos a analizar.\n",
    "\n",
    "### Distribución de algunas variables"
   ]
  },
  {
   "cell_type": "code",
   "execution_count": null,
   "id": "14210f1b-e692-4100-876f-fde3f3a91f61",
   "metadata": {},
   "outputs": [],
   "source": [
    "# Gráfico de barras para la variable airline_sentiment\n",
    "sns.countplot(x='airline', palette='viridis', data=df)\n",
    "plt.title('Distribución de la variable airline_sentiment')\n",
    "plt.show()"
   ]
  },
  {
   "cell_type": "code",
   "execution_count": null,
   "id": "bb498cc6-6d9a-4662-8201-866286b4aff3",
   "metadata": {},
   "outputs": [],
   "source": [
    "# Gráfico 'pie' con porcentajes para la variable objetivo airline_sentiment\n",
    "plt.???(df['airline_sentiment'].value_counts(), autopct=\"%.2f%%\", labels=['???', '???', '???'])\n",
    "plt.show()"
   ]
  },
  {
   "cell_type": "code",
   "execution_count": null,
   "id": "bf702c94-6303-4c5e-88ff-8940511584bc",
   "metadata": {},
   "outputs": [],
   "source": [
    "# Gráfico de barras para la variable airline\n",
    "sns.countplot(data=???, x='airline', palette='viridis', order=???['airline'].value_counts().index)\n",
    "plt.title('Número de tweets para cada aerolínea')\n",
    "plt.show()"
   ]
  },
  {
   "cell_type": "markdown",
   "id": "b59b109e",
   "metadata": {},
   "source": [
    "Toda la información aquí presentada de modo separado puede ser ensamblada en un solo gráfico. En las siguientes celdas vemos algunos ejemplos:"
   ]
  },
  {
   "cell_type": "code",
   "execution_count": null,
   "id": "cf7d2c86-c268-4e56-88de-823beacd14cf",
   "metadata": {},
   "outputs": [],
   "source": [
    "# Distribución de 'airline_sentiment' por cada aerolínea. \n",
    "# En este caso, utilizamos gráficos que ya están incluidos en el objeto dataframe.\n",
    "plot = df[['???', '???']].value_counts()\n",
    "plot.unstack().plot(kind='bar', stacked=True, figsize=(15,10))\n",
    "plt.???('Distribución de tipo de tweets por aerolínea')\n",
    "plt.???('Aereolinea')\n",
    "plt.???('Número de tweets')\n",
    "plt.show()"
   ]
  },
  {
   "cell_type": "markdown",
   "id": "389e9ec9-b674-4fea-863a-884547f0f730",
   "metadata": {},
   "source": [
    "### Distibución del número de palabras por tweet"
   ]
  },
  {
   "cell_type": "code",
   "execution_count": null,
   "id": "4772373b-4168-49bb-8c33-cbd85120a0c7",
   "metadata": {},
   "outputs": [],
   "source": [
    "# Calculamos el número de palabras en cada tweet\n",
    "df['word_count'] = df['???'].apply(lambda x: len(x.???()))\n",
    "\n",
    "# Mostrar los primeros 5 tweets con el número de palabras\n",
    "df[['text','word_count']].???"
   ]
  },
  {
   "cell_type": "code",
   "execution_count": null,
   "id": "4dab8e2e-3645-44ad-9079-2de316f70b80",
   "metadata": {},
   "outputs": [],
   "source": [
    "# Distribución del número de palabras\n",
    "df.word_count.???()"
   ]
  },
  {
   "cell_type": "code",
   "execution_count": null,
   "id": "6e992ce9-d287-4eab-bcc0-550e21753f8a",
   "metadata": {},
   "outputs": [],
   "source": [
    "# Histograma de la distribución de palabras por tweet.\n",
    "# Nuevamente, utilizamos los histogramas proporcionados por el propio dataframe.\n",
    "df['word_count'].???()"
   ]
  },
  {
   "cell_type": "markdown",
   "id": "6f8c51ad-7a29-4563-bf89-8b4ea7b738c9",
   "metadata": {},
   "source": [
    "#### Histograma de la distribución del número de caracteres por tweet"
   ]
  },
  {
   "cell_type": "code",
   "execution_count": null,
   "id": "2a4c9475-738b-4af1-8a03-c74897147efb",
   "metadata": {},
   "outputs": [],
   "source": [
    "df['text'].str.len().hist()"
   ]
  },
  {
   "cell_type": "markdown",
   "id": "6790fabe-3317-41d6-899f-623fafb57336",
   "metadata": {},
   "source": [
    "### Representación de las palabras más comunes\n",
    "- Consideraremos solo los tweets asociados a un sentimiento positivo o negativo.\n",
    "- Para cada caso, representaremos gráficamente las palabras más comunes (más apariciones)."
   ]
  },
  {
   "cell_type": "code",
   "execution_count": null,
   "id": "400b872f-ef81-4cb8-853b-76510e1f2403",
   "metadata": {},
   "outputs": [],
   "source": [
    "# Filtramos el conjunto de datos para quedarnos solo con los tweets positivos\n",
    "positivedata = df.loc[df['airline_sentiment']=='???', 'text']\n",
    "\n",
    "# Hacemos lo mismo esta vez con los tweets negativos\n",
    "negdata = df.loc[df['airline_sentiment']=='???', 'text']"
   ]
  },
  {
   "cell_type": "code",
   "execution_count": null,
   "id": "a55cd8c1-ea09-4bd0-b0a7-b2d0917ccb46",
   "metadata": {},
   "outputs": [],
   "source": [
    "# Función para poder realizar el gráfico\n",
    "def wordcloud_draw(data, color, title):\n",
    "    words = ' '.join(data)\n",
    "    wordcloud = WordCloud(stopwords=stopwords.words('english'),\n",
    "                          background_color=color,\n",
    "                          width=2500,height=2000).generate(words)\n",
    "    plt.imshow(wordcloud)\n",
    "    plt.title(title)\n",
    "    plt.axis('off')"
   ]
  },
  {
   "cell_type": "code",
   "execution_count": null,
   "id": "5b06496f-aebc-423e-af7d-e5296d4b9d94",
   "metadata": {},
   "outputs": [],
   "source": [
    "# Representamos los dos gráficos en una sola visualización\n",
    "plt.figure(figsize=[20,10])\n",
    "plt.subplot(1,2,1)\n",
    "wordcloud_draw(???,'white','Palabras Positivas más comunes')\n",
    "\n",
    "plt.subplot(1,2,2)\n",
    "wordcloud_draw(???, '???','Palabras Negativas más comunes')\n",
    "plt.show()"
   ]
  },
  {
   "cell_type": "markdown",
   "id": "ba744606",
   "metadata": {},
   "source": [
    "## BLOQUE E: Exportación del conjunto resultante\n",
    "En esta última fase exportamos y guardamos el conjunto de datos ya limpiado, procesado y adecuado. Solo guardaremos aquellas columnas que posteriormente nos serán útiles para crear y entrenar nuestro modelo de NLP."
   ]
  },
  {
   "cell_type": "code",
   "execution_count": null,
   "id": "fdae667c",
   "metadata": {},
   "outputs": [],
   "source": [
    "# Eliminamos las columnas que ya no serán necesarias para el modelo\n",
    "df = df.???(columns=['airline', 'language', 'word_count'])"
   ]
  },
  {
   "cell_type": "code",
   "execution_count": null,
   "id": "a9f01953-b9c0-4d0e-b875-0725868652a3",
   "metadata": {},
   "outputs": [],
   "source": [
    "# Guardamos los datos ya procesados en un fichero csv\n",
    "df.???('data/dataPrepared.csv', index=False)"
   ]
  }
 ],
 "metadata": {
  "kernelspec": {
   "display_name": "Python 3 (ipykernel)",
   "language": "python",
   "name": "python3"
  },
  "language_info": {
   "codemirror_mode": {
    "name": "ipython",
    "version": 3
   },
   "file_extension": ".py",
   "mimetype": "text/x-python",
   "name": "python",
   "nbconvert_exporter": "python",
   "pygments_lexer": "ipython3",
   "version": "3.7.11"
  },
  "vscode": {
   "interpreter": {
    "hash": "415bf093bb7c32384f83c305df05bcae34dbf408c68dbcd8cd24937de3807095"
   }
  }
 },
 "nbformat": 4,
 "nbformat_minor": 5
}
