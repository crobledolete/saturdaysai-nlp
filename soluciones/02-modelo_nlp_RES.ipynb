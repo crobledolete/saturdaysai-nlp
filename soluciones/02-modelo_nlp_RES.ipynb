{
 "cells": [
  {
   "cell_type": "markdown",
   "metadata": {},
   "source": [
    "# Modelo de NLP\n",
    "El **Procesamiento del Lenguaje Natural** (más conocido como  NLP por su nombre en inglés, _Natural Language Processing_) es el área de estudio centrada en cómo los ordenadores entienden el lenguaje humano, lo interpretan y lo procesan. Se trata de un campo complejo en el que entran en juego diferentes disciplinas, entre las que podemos destacar la Inteligencia Artificial (AI), el _big data_ o la lingüistica.\n",
    "\n",
    "La mayor parte de las aplicaciones creadas dentro de este campo se enfocan en la comprensión, el manejo y la generación del lenguaje natural por parte de las máquinas. Entre ellas destacan:\n",
    "- Asistentes virtuales o chatbots.\n",
    "- Traducción automática de textos.\n",
    "- Clasificación de textos.\n",
    "- Resumen de textos.\n",
    "- Análisis de sentimientos.\n",
    "- ... y más!\n",
    "\n",
    "En este notebook utilizaremos el conjunto que hemos inspeccionado y adecuado para poder realizar un sencillo modelo que nos ayude a **analizar los sentimientos descritos en los diferentes tweets**. Así, el siguiente script está dividido en los siguientes bloques:\n",
    "- BLOQUE A: carga de datos inspeccionados.\n",
    "- BLOQUE B: preprocesamiento del texto.\n",
    "- BLOQUE C: representación del texto.\n",
    "- BLOQUE D: partición del conjunto de datos y balanceo.\n",
    "- BLOQUE E: entrenamiento del modelo de Gradient Boosting.\n",
    "- BLOQUE F: inferencia."
   ]
  },
  {
   "cell_type": "code",
   "execution_count": 1,
   "metadata": {},
   "outputs": [],
   "source": [
    "import pandas as pd\n",
    "import numpy as np\n",
    "import nltk\n",
    "import re\n",
    "\n",
    "#nltk.download('stopwords')\n",
    "nltk.download('punkt')\n",
    "from nltk.corpus import stopwords\n",
    "from nltk.stem import SnowballStemmer\n",
    "from nltk.tokenize import word_tokenize\n",
    "\n",
    "import gensim.downloader\n",
    "\n",
    "from sklearn.model_selection import train_test_split\n",
    "from sklearn.utils import resample\n",
    "from sklearn.ensemble import GradientBoostingClassifier\n",
    "from sklearn.metrics import classification_report"
   ]
  },
  {
   "cell_type": "markdown",
   "metadata": {},
   "source": [
    "## BLOQUE A: Carga de datos\n",
    "Antes de comenzar, cargaremos los datos que han sido adecuados en nuestra fase anterior de limpieza y preprocesamiento de textos:"
   ]
  },
  {
   "cell_type": "code",
   "execution_count": 2,
   "metadata": {},
   "outputs": [],
   "source": [
    "# Carga de datos ya adecuados\n",
    "df = pd.read_csv('../data/dataPrepared.csv')"
   ]
  },
  {
   "cell_type": "code",
   "execution_count": 3,
   "metadata": {},
   "outputs": [
    {
     "data": {
      "text/html": [
       "<div>\n",
       "<style scoped>\n",
       "    .dataframe tbody tr th:only-of-type {\n",
       "        vertical-align: middle;\n",
       "    }\n",
       "\n",
       "    .dataframe tbody tr th {\n",
       "        vertical-align: top;\n",
       "    }\n",
       "\n",
       "    .dataframe thead th {\n",
       "        text-align: right;\n",
       "    }\n",
       "</style>\n",
       "<table border=\"1\" class=\"dataframe\">\n",
       "  <thead>\n",
       "    <tr style=\"text-align: right;\">\n",
       "      <th></th>\n",
       "      <th>airline_sentiment</th>\n",
       "      <th>text</th>\n",
       "    </tr>\n",
       "  </thead>\n",
       "  <tbody>\n",
       "    <tr>\n",
       "      <th>0</th>\n",
       "      <td>neutral</td>\n",
       "      <td>@VirginAmerica What @dhepburn said.</td>\n",
       "    </tr>\n",
       "    <tr>\n",
       "      <th>1</th>\n",
       "      <td>positive</td>\n",
       "      <td>@VirginAmerica plus you've added commercials t...</td>\n",
       "    </tr>\n",
       "    <tr>\n",
       "      <th>2</th>\n",
       "      <td>neutral</td>\n",
       "      <td>@VirginAmerica I didn't today... Must mean I n...</td>\n",
       "    </tr>\n",
       "    <tr>\n",
       "      <th>3</th>\n",
       "      <td>negative</td>\n",
       "      <td>@VirginAmerica it's really aggressive to blast...</td>\n",
       "    </tr>\n",
       "    <tr>\n",
       "      <th>4</th>\n",
       "      <td>negative</td>\n",
       "      <td>@VirginAmerica and it's a really big bad thing...</td>\n",
       "    </tr>\n",
       "  </tbody>\n",
       "</table>\n",
       "</div>"
      ],
      "text/plain": [
       "  airline_sentiment                                               text\n",
       "0           neutral                @VirginAmerica What @dhepburn said.\n",
       "1          positive  @VirginAmerica plus you've added commercials t...\n",
       "2           neutral  @VirginAmerica I didn't today... Must mean I n...\n",
       "3          negative  @VirginAmerica it's really aggressive to blast...\n",
       "4          negative  @VirginAmerica and it's a really big bad thing..."
      ]
     },
     "execution_count": 3,
     "metadata": {},
     "output_type": "execute_result"
    }
   ],
   "source": [
    "# Mostramos las primeras observaciones del conjunto\n",
    "df.head()"
   ]
  },
  {
   "cell_type": "markdown",
   "metadata": {},
   "source": [
    "## BLOQUE B: Preprocesamiento del texto\n",
    "El preprocesamiento del texto es una fase importante dentro del Procesamiento del Lenguaje Natural (NLP). El objetivo de esta fase es la de transformar el texto en crudo, de manera que sea más fácilmente consumible por los algoritmos y modelos de Machine Learning (ML) y Deep Learning (DL) a aplicar.\n",
    "\n",
    "Esta fase consta de diferentes pasos y no son siempre los mismos. En este caso, preprocesaremos los teewts de la siguiente manera:\n",
    "\n",
    "1. **_Lower Casing_:** Transformar palabras de mayúsculas a minúsculas.\n",
    "\n",
    "2. **Reemplazar URLs:** Links que comienzan por \"http\" o \"https\" o \"www\" son reemplazados por la palabra \"URL\".\n",
    "\n",
    "3. **Reemplazar Emojis:** Reemplazar emojis usando un diccionario predefinido.\n",
    "\n",
    "4. **Reemplazar nombres de usuario:** Reemplazar @Nombres con la palabra \"USER\".\n",
    "\n",
    "5. **Eliminar _Non-Alphabets_:** Reemplazar todos los caracteres excepto dígitos and _alphabets_ por un espacio.\n",
    "\n",
    "6. **Eliminar letras consecutivas:** 3 o más letras consecutivas son reemplazadas por 2 letras (ejemplo: \"Heyyyy\" por \"Heyy\").\n",
    "\n",
    "7. **Eliminar palabras cortas:** Palabras con menos de 2 letras son eliminadas.\n",
    "\n",
    "8. **Eliminar _Stopwords_:** Las _Stopwords_ son aquellas palabras en ingés que no tienen un significado específico por si solas, por lo que pueden ser ignoradas sin sacrificar el significado de la oración (ejemplos: \"the\", \"he\").\n",
    "\n",
    "9. **_Stemming_:** Se refiere al proceso de eliminar sufijos y dar a la palabras una forma base, de modo que diferentes variaciones de una misma palabra puedan ser representadas en la misma forma (ejemplo: “walk” y “walking\" son ambas reducidas a \"walk\").\n",
    "\n",
    "10. **Tokenización:** Los modelos NLP normalmente analizan los textos dividiéndolos por palabras (_tokens_) y/o oraciones."
   ]
  },
  {
   "cell_type": "code",
   "execution_count": 4,
   "metadata": {},
   "outputs": [],
   "source": [
    "# Diccionario con los distions emojis y sus significados.\n",
    "emojis = {':)': 'smile', ':-)': 'smile', ';d': 'wink', ':-E': 'vampire', ':(': 'sad', \n",
    "          ':-(': 'sad', ':-<': 'sad', ':P': 'raspberry', ':O': 'surprised',\n",
    "          ':-@': 'shocked', ':@': 'shocked',':-$': 'confused', ':\\\\': 'annoyed', \n",
    "          ':#': 'mute', ':X': 'mute', ':^)': 'smile', ':-&': 'confused', '$_$': 'greedy',\n",
    "          '@@': 'eyeroll', ':-!': 'confused', ':-D': 'smile', ':-0': 'yell', 'O.o': 'confused',\n",
    "          '<(-_-)>': 'robot', 'd[-_-]b': 'dj', \":'-)\": 'sadsmile', ';)': 'wink', \n",
    "          ';-)': 'wink', 'O:-)': 'angel','O*-)': 'angel','(:-D': 'gossip', '=^.^=': 'cat'}"
   ]
  },
  {
   "cell_type": "code",
   "execution_count": 5,
   "metadata": {},
   "outputs": [],
   "source": [
    "# Función para preprocesar el texto en crudo\n",
    "def preprocess(text):    \n",
    "    # Crear stemmer.\n",
    "    stemmer = SnowballStemmer(language='english')\n",
    "    \n",
    "    # Crear lista de stopwords\n",
    "    en_stop = stopwords.words('english')\n",
    "    \n",
    "    # Definir patrones para reemplazar/eliminar.\n",
    "    urlPattern        = r\"((http://)[^ ]*|(https://)[^ ]*|( www\\.)[^ ]*)\"\n",
    "    userPattern       = '@[^\\s]+'\n",
    "    alphaPattern      = \"[^a-zA-Z0-9]\"\n",
    "    sequencePattern   = r\"(.)\\1\\1+\"\n",
    "    seqReplacePattern = r\"\\1\\1\"\n",
    "\n",
    "    # Lower Casing\n",
    "    text = text.lower()\n",
    "    # Reemplazar URLs\n",
    "    text = re.sub(urlPattern,' URL', text)\n",
    "    # Reemplazar emojis.\n",
    "    for emoji in emojis.keys():\n",
    "        text = text.replace(emoji, \"EMOJI\" + emojis[emoji])        \n",
    "    # Reemplazar @Nombres con 'USER'.\n",
    "    text = re.sub(userPattern,' USER', text)        \n",
    "    # Reemplazar non-alphabets.\n",
    "    text = re.sub(alphaPattern, \" \", text)\n",
    "    # Reemplazar letras consecutivas.\n",
    "    text = re.sub(sequencePattern, seqReplacePattern, text)\n",
    "\n",
    "    # Tokenizar texto\n",
    "    tokens = word_tokenize(text)\n",
    "    \n",
    "    # Eliminar palabras con menos de dos letras\n",
    "    tokens = [word for word in tokens if len(word)>2]\n",
    "    \n",
    "    # Eliminar stopwords\n",
    "    tokens = [word for word in tokens if word not in en_stop]\n",
    "    \n",
    "    # Aplicar stemmer o \"stemmizar\"\n",
    "    tokens = [stemmer.stem(word) for word in tokens]\n",
    "        \n",
    "    return tokens\n"
   ]
  },
  {
   "cell_type": "code",
   "execution_count": 6,
   "metadata": {},
   "outputs": [],
   "source": [
    "# Aplicamos la función a cada una de las filas del dataset\n",
    "df['preprocess_text'] = df['text'].apply(preprocess)"
   ]
  },
  {
   "cell_type": "code",
   "execution_count": 7,
   "metadata": {},
   "outputs": [
    {
     "name": "stdout",
     "output_type": "stream",
     "text": [
      "Texto en crudo: @VirginAmerica  I flew from NYC to SFO last week and couldn't fully sit in my seat due to two large gentleman on either side of me. HELP!\n",
      "Texto preprocesado: ['user', 'flew', 'nyc', 'sfo', 'last', 'week', 'fulli', 'sit', 'seat', 'due', 'two', 'larg', 'gentleman', 'either', 'side', 'help']\n"
     ]
    }
   ],
   "source": [
    "# Resultados del preprocesamiento: un ejemplo\n",
    "print('Texto en crudo:', df.loc[16, 'text'])\n",
    "print('Texto preprocesado:', df.loc[16, 'preprocess_text'])"
   ]
  },
  {
   "cell_type": "markdown",
   "metadata": {},
   "source": [
    "## BLOQUE C: Representación del texto\n",
    "La conversión del texto en una representación númerica es uno de los pasos más importantes dentro de cualquier _pipeline_ de NLP. Esta conversión resulta esencial para que las \"máquinas\" puedan comprender y decodificar patrones dentro de cualquier lenguaje.\n",
    "\n",
    "Se trata de un proceso iterativo y que puede ser realizado mediante múltiples maneras o técnicas, abarcando desde las representaciones más sencillas (por ejemlo, _One hot encoding_) hasta otras más \"inteligentes\", que logran tener en cuenta las similitudes y diferencias entre ellas al basar su aprendizaje en redes neuronales (_Word embeddings_). En este [enlace](https://www.kaggle.com/code/nkitgupta/text-representations) podéis encontrar más información acerca de las diferentes técnicas normalmente empleadas.\n",
    "\n",
    "Nosotros utilizaremos esta última técnica, sirviéndonos de un algoritmo conocido como [GloVe](https://towardsdatascience.com/light-on-math-ml-intuitive-guide-to-understanding-glove-embeddings-b13b4f19c010)."
   ]
  },
  {
   "cell_type": "code",
   "execution_count": 8,
   "metadata": {},
   "outputs": [],
   "source": [
    "# Cargamos el modelo GloVe preentrenado\n",
    "GloveModel = gensim.downloader.load('glove-twitter-50')"
   ]
  },
  {
   "cell_type": "code",
   "execution_count": 9,
   "metadata": {},
   "outputs": [
    {
     "data": {
      "text/plain": [
       "array([ 0.6608  , -0.10159 ,  0.026775, -0.088053,  0.15578 ,  0.87288 ,\n",
       "        1.29    ,  0.28934 , -0.59205 ,  0.26779 , -0.76604 ,  0.27955 ,\n",
       "       -5.1483  , -0.056899, -0.050798, -0.083225,  0.48048 , -0.35409 ,\n",
       "       -1.0566  ,  0.065436, -0.46674 ,  0.13847 , -0.22022 ,  0.61591 ,\n",
       "        0.18462 ,  0.77965 ,  0.29022 , -0.24679 ,  0.95335 , -0.35699 ,\n",
       "       -0.24246 ,  0.35939 , -0.16369 ,  0.30926 ,  0.32784 ,  0.66924 ,\n",
       "       -0.028869,  0.13981 ,  0.12371 ,  0.96181 , -1.4018  , -0.19285 ,\n",
       "        0.79053 ,  0.36647 ,  0.32751 ,  0.29666 , -0.039173, -0.14523 ,\n",
       "       -0.19663 ,  0.026827], dtype=float32)"
      ]
     },
     "execution_count": 9,
     "metadata": {},
     "output_type": "execute_result"
    }
   ],
   "source": [
    "# Podemos ver la representación de una palabra\n",
    "GloveModel['good']"
   ]
  },
  {
   "cell_type": "code",
   "execution_count": 10,
   "metadata": {},
   "outputs": [
    {
     "data": {
      "text/plain": [
       "[('crash', 0.873276948928833),\n",
       " ('helicopter', 0.87031489610672),\n",
       " ('flight', 0.848209023475647),\n",
       " ('boat', 0.8402037024497986),\n",
       " ('airplane', 0.8352847099304199),\n",
       " ('flying', 0.8124383687973022),\n",
       " ('jet', 0.8098623752593994),\n",
       " ('near', 0.7924355268478394),\n",
       " ('flew', 0.7924338579177856),\n",
       " ('shuttle', 0.7901661992073059)]"
      ]
     },
     "execution_count": 10,
     "metadata": {},
     "output_type": "execute_result"
    }
   ],
   "source": [
    "# También podemos ver las palabras con mayor similitud a otra\n",
    "GloveModel.most_similar('plane')"
   ]
  },
  {
   "cell_type": "code",
   "execution_count": 11,
   "metadata": {},
   "outputs": [],
   "source": [
    "# Construcción de nuestra matriz de representación\n",
    "\n",
    "# Función para obtener/calcular el vector de representación para cada tweet\n",
    "def get_w2v_vectors(processed_text, model = GloveModel):\n",
    "    # Guardamos el vocabulario del modelo Word2Vec en un objeto\n",
    "    words = model.index_to_key\n",
    "    \n",
    "    # Guardamos el tamaño de los vectores creados por el modelo en un objeto\n",
    "    size = model.vector_size\n",
    "    \n",
    "    # Iteramos sobre los tokens del tweet para obtener su vector en el modelo\n",
    "    text_vectors = []  # Lista vacía para poder guardar los vectores calculados\n",
    "\n",
    "    for token in processed_text:        \n",
    "        if token in words:\n",
    "            text_vectors.append(model[token])  # Si el token existe dentro del vocabulario, añadimos el valor de su vector\n",
    "            \n",
    "        else:\n",
    "            text_vectors.append(np.zeros(size))  # En caso de no existir, creamos un vector del mismo tamaño que sea todo 0's\n",
    "    \n",
    "    # Calculamos la media de todos los vectores de un tweet para poder crear una representación de todo el tweet\n",
    "    text_vectors_avg = np.mean(text_vectors, axis=0)\n",
    "            \n",
    "    return text_vectors_avg"
   ]
  },
  {
   "cell_type": "code",
   "execution_count": 12,
   "metadata": {},
   "outputs": [],
   "source": [
    "# Aplicamos la función a todo el conjunto de datos\n",
    "df['text_vector'] = df['preprocess_text'].apply(get_w2v_vectors)"
   ]
  },
  {
   "cell_type": "code",
   "execution_count": 13,
   "metadata": {},
   "outputs": [
    {
     "data": {
      "text/html": [
       "<div>\n",
       "<style scoped>\n",
       "    .dataframe tbody tr th:only-of-type {\n",
       "        vertical-align: middle;\n",
       "    }\n",
       "\n",
       "    .dataframe tbody tr th {\n",
       "        vertical-align: top;\n",
       "    }\n",
       "\n",
       "    .dataframe thead th {\n",
       "        text-align: right;\n",
       "    }\n",
       "</style>\n",
       "<table border=\"1\" class=\"dataframe\">\n",
       "  <thead>\n",
       "    <tr style=\"text-align: right;\">\n",
       "      <th></th>\n",
       "      <th>airline_sentiment</th>\n",
       "      <th>text</th>\n",
       "      <th>preprocess_text</th>\n",
       "      <th>text_vector</th>\n",
       "    </tr>\n",
       "  </thead>\n",
       "  <tbody>\n",
       "    <tr>\n",
       "      <th>0</th>\n",
       "      <td>neutral</td>\n",
       "      <td>@VirginAmerica What @dhepburn said.</td>\n",
       "      <td>[user, user, said]</td>\n",
       "      <td>[0.86141664, 0.14086668, -0.5035733, 0.31527, ...</td>\n",
       "    </tr>\n",
       "    <tr>\n",
       "      <th>1</th>\n",
       "      <td>positive</td>\n",
       "      <td>@VirginAmerica plus you've added commercials t...</td>\n",
       "      <td>[user, plus, ad, commerci, experi, tacki]</td>\n",
       "      <td>[-0.10988165686527888, -0.22529666125774384, -...</td>\n",
       "    </tr>\n",
       "    <tr>\n",
       "      <th>2</th>\n",
       "      <td>neutral</td>\n",
       "      <td>@VirginAmerica I didn't today... Must mean I n...</td>\n",
       "      <td>[user, today, must, mean, need, take, anoth, t...</td>\n",
       "      <td>[0.211065, 0.15016875, -0.266939, -0.27672714,...</td>\n",
       "    </tr>\n",
       "    <tr>\n",
       "      <th>3</th>\n",
       "      <td>negative</td>\n",
       "      <td>@VirginAmerica it's really aggressive to blast...</td>\n",
       "      <td>[user, realli, aggress, blast, obnoxi, enterta...</td>\n",
       "      <td>[0.10040973059155724, 0.3603672710332004, -0.2...</td>\n",
       "    </tr>\n",
       "    <tr>\n",
       "      <th>4</th>\n",
       "      <td>negative</td>\n",
       "      <td>@VirginAmerica and it's a really big bad thing...</td>\n",
       "      <td>[user, realli, big, bad, thing]</td>\n",
       "      <td>[0.413062, 0.1142596, -0.266366, 0.0897748, 0....</td>\n",
       "    </tr>\n",
       "  </tbody>\n",
       "</table>\n",
       "</div>"
      ],
      "text/plain": [
       "  airline_sentiment                                               text  \\\n",
       "0           neutral                @VirginAmerica What @dhepburn said.   \n",
       "1          positive  @VirginAmerica plus you've added commercials t...   \n",
       "2           neutral  @VirginAmerica I didn't today... Must mean I n...   \n",
       "3          negative  @VirginAmerica it's really aggressive to blast...   \n",
       "4          negative  @VirginAmerica and it's a really big bad thing...   \n",
       "\n",
       "                                     preprocess_text  \\\n",
       "0                                 [user, user, said]   \n",
       "1          [user, plus, ad, commerci, experi, tacki]   \n",
       "2  [user, today, must, mean, need, take, anoth, t...   \n",
       "3  [user, realli, aggress, blast, obnoxi, enterta...   \n",
       "4                    [user, realli, big, bad, thing]   \n",
       "\n",
       "                                         text_vector  \n",
       "0  [0.86141664, 0.14086668, -0.5035733, 0.31527, ...  \n",
       "1  [-0.10988165686527888, -0.22529666125774384, -...  \n",
       "2  [0.211065, 0.15016875, -0.266939, -0.27672714,...  \n",
       "3  [0.10040973059155724, 0.3603672710332004, -0.2...  \n",
       "4  [0.413062, 0.1142596, -0.266366, 0.0897748, 0....  "
      ]
     },
     "execution_count": 13,
     "metadata": {},
     "output_type": "execute_result"
    }
   ],
   "source": [
    "df.head()"
   ]
  },
  {
   "cell_type": "markdown",
   "metadata": {},
   "source": [
    "## BLOQUE D: Partición del conjunto de datos y balanceo del conjunto de entrenamiento"
   ]
  },
  {
   "cell_type": "code",
   "execution_count": 14,
   "metadata": {},
   "outputs": [],
   "source": [
    "# Separamos nuestro dataset en dos conjuntos distintos: de entrenamiento y de test\n",
    "train_set, test_set = train_test_split(df, test_size=0.15, random_state=0)"
   ]
  },
  {
   "cell_type": "markdown",
   "metadata": {},
   "source": [
    "Como habíamos visto en nuestra exploración del conjunto, sabemos que se encuentra claramente **desbalanceado** (más muestras de sentimiento negativo que de las otras dos clases). Si utilizaramos un conjunto desbalanceado para entrenar, nuestro modelo estaría claramente sesgado y le costaría aprender a diferenciar los patrones de las clases más minoritarias. Por tanto, procedemos a balancear el **conjunto de entrenamiento**:"
   ]
  },
  {
   "cell_type": "code",
   "execution_count": 15,
   "metadata": {},
   "outputs": [
    {
     "data": {
      "text/plain": [
       "negative    7761\n",
       "neutral     2546\n",
       "positive    1973\n",
       "Name: airline_sentiment, dtype: int64"
      ]
     },
     "execution_count": 15,
     "metadata": {},
     "output_type": "execute_result"
    }
   ],
   "source": [
    "# Ver distribución de las clases en el conjunto de entrenamiento\n",
    "train_set['airline_sentiment'].value_counts()"
   ]
  },
  {
   "cell_type": "code",
   "execution_count": 16,
   "metadata": {},
   "outputs": [],
   "source": [
    "# Balanceo del conjunto de entrenamiento\n",
    "train_neg = train_set[train_set['airline_sentiment']=='negative']\n",
    "train_neutral = train_set[train_set['airline_sentiment']=='neutral']\n",
    "train_pos = train_set[train_set['airline_sentiment']=='positive']\n",
    "\n",
    "num_minority = len(train_pos)\n",
    "\n",
    "train_neg = resample(train_neg, replace=False, n_samples=num_minority, random_state=0)\n",
    "train_neutral = resample(train_neutral, replace=False, n_samples=num_minority, random_state=0)\n",
    "\n",
    "train_set_balanced = pd.concat([train_neg, train_neutral, train_pos])"
   ]
  },
  {
   "cell_type": "code",
   "execution_count": 17,
   "metadata": {},
   "outputs": [
    {
     "data": {
      "text/plain": [
       "negative    1973\n",
       "neutral     1973\n",
       "positive    1973\n",
       "Name: airline_sentiment, dtype: int64"
      ]
     },
     "execution_count": 17,
     "metadata": {},
     "output_type": "execute_result"
    }
   ],
   "source": [
    "# Comprobamos que el conjunto esta bien balanceado\n",
    "train_set_balanced['airline_sentiment'].value_counts()"
   ]
  },
  {
   "cell_type": "code",
   "execution_count": 18,
   "metadata": {},
   "outputs": [],
   "source": [
    "# Por último, separamos nuestros sets de entrenamiento y test en conjuntos X e y\n",
    "X_train_balanced = list(train_set_balanced['text_vector'])\n",
    "y_train_balanced = train_set_balanced['airline_sentiment']\n",
    "\n",
    "X_test = list(test_set['text_vector'])\n",
    "y_test = test_set['airline_sentiment']"
   ]
  },
  {
   "cell_type": "code",
   "execution_count": 19,
   "metadata": {},
   "outputs": [
    {
     "name": "stdout",
     "output_type": "stream",
     "text": [
      "Tamaño del conjunto de entrenamiento balanceado: 5919\n",
      "Tamaño del conjunto de test: 2168\n"
     ]
    }
   ],
   "source": [
    "# Información acerca de los conjuntos\n",
    "print('Tamaño del conjunto de entrenamiento balanceado:', len(X_train_balanced))\n",
    "print('Tamaño del conjunto de test:', len(X_test))"
   ]
  },
  {
   "cell_type": "markdown",
   "metadata": {},
   "source": [
    "## BLOQUE E: Entrenamiento del modelo de Gradient Boosting\n",
    "¿Qué es _Boosting_?\n",
    "\n",
    "Boosting es un meta-algoritmo de aprendizaje automático que reduce el sesgo y la varianza en un contexto de aprendizaje supervisado. Consiste en combinar los resultados de varios clasificadores débiles para obtener un clasificador robusto. Cuando se añaden estos clasificadores débiles, se hace de modo que éstos tengan diferente peso en función de la exactitud de sus predicciones. Tras añadir un clasificador débil, los datos cambian su estructura de pesos: los casos mal clasificados ganan peso y los que son clasificados correctamente pierden peso.\n",
    "\n",
    "**Gradient Boosting (GB)** o Potenciación del gradiente consiste en plantear el problema como una optimización numérica en el que el objetivo es minimizar una función de coste añadiendo clasificadores débiles mediante el descenso del gradiente. Involucra tres elementos:\n",
    "\n",
    "- La **función de coste** a optimizar: depende del tipo de problema a resolver.\n",
    "- Un **clasificador débil** para hacer las predicciones: por lo general se usan árboles de decisión.\n",
    "- Un **modelo que añade (ensambla) los clasificadores débiles** para minimizar la función de coste: se usa el descenso del gradiente para minimizar el coste al añadir árboles.\n",
    "\n",
    "Los hiperparámetros más importantes que intervienen en este algoritmo (aunque no todos) son:\n",
    "- **learning_rate**: determina el impacto de cada árbol en la salida final. Se parte de una estimación inicial que se va actualizando con la salida de cada árbol. Es el parámetro que controla la magnitud de las actualizaciones.\n",
    "- **n_estimators**: número de clasificadores débiles a utilizar.\n",
    "\n",
    "Como en este caso utilizaremos **árboles de decisión** como clasificadores débiles a ensamblar, también debemos tener en cuenta los hiperparámetros que afectan a esta clase de modelos. En este caso:\n",
    "- **max_depth**: profundidad máxima del árbol.\n",
    "\n",
    "Más información sobre el modelo que se utiliza en este ejemplo y de sus parámetros [aquí](https://scikit-learn.org/stable/modules/generated/sklearn.ensemble.GradientBoostingClassifier.html)."
   ]
  },
  {
   "cell_type": "code",
   "execution_count": 20,
   "metadata": {},
   "outputs": [
    {
     "data": {
      "text/plain": [
       "GradientBoostingClassifier(learning_rate=0.2, n_estimators=150, random_state=0)"
      ]
     },
     "execution_count": 20,
     "metadata": {},
     "output_type": "execute_result"
    }
   ],
   "source": [
    "# Creamos el modelo introduciendo los valores de los parámetros:\n",
    "gb_clf = GradientBoostingClassifier(n_estimators=150, learning_rate=0.2, max_depth=3, random_state=0)\n",
    "\n",
    "# Entrenamiento o ajuste del modelo con los datos de entrenamiento\n",
    "gb_clf.fit(X_train_balanced, y_train_balanced)"
   ]
  },
  {
   "cell_type": "markdown",
   "metadata": {},
   "source": [
    "Para poder ver como de bueno es nuestro modelo, podemos obtener las predicciones que realiza sobre los conjuntos de entrenamiento y test, y realizar el cálculo de alguna métrica para observar su rendimiento. En este caso, observaremos las métricas **precision**, **recall** y **F1 score**, las cuales son muy utilizadas sobre todo para casos en los que se trabaja con un alto desbalanceo de los datos.\n",
    "\n",
    "- **Precision** permite medir la calidad del modelo en tareas de clasificación. Para este ejemplo concreto, si nos centramos en los tweets postivos, mediría la cantidad de tweets positivos que nuestro modelo es capaz de identificar correctamente de entre todos los tweets que **nuestro modelo clasifica** como positivos. Para esta métrica, los falsos positivos son más importantes que los falsos negativos.\n",
    "\n",
    "- **Recall** informa sobre la cantidad que el modelo es capaz de identificar. Siguiendo con el ejemplo anterior, esta métrica nos permite cuantificar o medir la cantidad de tweets positivos que el modelo predice correctamente de entre todos los tweets que **realmente** son positivos. Al contratio que para _precision_, para esta métrica son más importantes los falsos negativos.\n",
    "\n",
    "- **F1 score** se utiliza para combinar ambas medidas, normalmente asumiendo que nos importan de igual forma.\n",
    "\n",
    "Más información detallada sobre estas métricas en este [enlace](https://mlu-explain.github.io/precision-recall/)."
   ]
  },
  {
   "cell_type": "code",
   "execution_count": 21,
   "metadata": {},
   "outputs": [
    {
     "name": "stdout",
     "output_type": "stream",
     "text": [
      "Resultados conjunto de entrenamiento:\n",
      "\n",
      "              precision    recall  f1-score   support\n",
      "\n",
      "    negative       0.86      0.90      0.88      1973\n",
      "     neutral       0.89      0.84      0.86      1973\n",
      "    positive       0.89      0.89      0.89      1973\n",
      "\n",
      "    accuracy                           0.88      5919\n",
      "   macro avg       0.88      0.88      0.88      5919\n",
      "weighted avg       0.88      0.88      0.88      5919\n",
      "\n"
     ]
    }
   ],
   "source": [
    "# Predecimos sobre los datos de entrenamiento\n",
    "pred_train = gb_clf.predict(X_train_balanced)\n",
    "\n",
    "# Mostramos el \"classification report\"\n",
    "print('Resultados conjunto de entrenamiento:\\n')\n",
    "print(classification_report(y_train_balanced, pred_train))"
   ]
  },
  {
   "cell_type": "code",
   "execution_count": 22,
   "metadata": {},
   "outputs": [
    {
     "name": "stdout",
     "output_type": "stream",
     "text": [
      "              precision    recall  f1-score   support\n",
      "\n",
      "    negative       0.85      0.70      0.77      1359\n",
      "     neutral       0.46      0.58      0.51       458\n",
      "    positive       0.52      0.68      0.59       351\n",
      "\n",
      "    accuracy                           0.67      2168\n",
      "   macro avg       0.61      0.65      0.62      2168\n",
      "weighted avg       0.71      0.67      0.68      2168\n",
      "\n"
     ]
    }
   ],
   "source": [
    "# Evaluación del modelo sobre datos de test\n",
    "pred_test = gb_clf.predict(X_test)\n",
    "\n",
    "# Mostramos el \"classification report\"\n",
    "print(classification_report(y_test, pred_test))"
   ]
  },
  {
   "cell_type": "markdown",
   "metadata": {},
   "source": [
    "## BLOQUE F: Inferencia \n",
    "Una vez obtenido nuestro modelo final podemos utilizarlo para realizar inferencia sobre nuevos tweets no vistos anteriormente y catalogarlos así como positivos, neutros o negativos. Debemos tener en cuenta que los tweets que vayan a ser analizados mediante este modelo NLP deben someterse al mismo preprocesamiento y representación al que se han sometido el resto de los datos."
   ]
  },
  {
   "cell_type": "code",
   "execution_count": 23,
   "metadata": {},
   "outputs": [],
   "source": [
    "# Nuevos tweets a clasificar\n",
    "new_tweets = [\"Don't travel with @UnitedAirlines_ ! They lost my luggage 2 months ago on a flight to Vegas, after 5 days they asked me to fill a claim because\" \\\n",
    "              \"they didn't know where my luggage was and specify what I had spent with receipts.\",\n",
    "              \"Virgin Atlantic and LATAM Airlines have submitted an application to the US Department of Transportation for a codeshare agreement which will create good \" \\\n",
    "              \"connectivity into three South American countries.\",\n",
    "              \"A wonderful flight to Paris on @airfrance done and dusted. Now for a short flight to Geneva on a beaut of a plane. I love the touch of the phone/iPad holders. \" \\\n",
    "              \"@Club_Med_SA #clubmedtignes #AirFranceZA\",\n",
    "              \"Very nice trip back from HEL with the brand new @AirFranceFR A220-330 F-HZUN from on AF1177. As usual excellent experience on board with the efficient\" \\\n",
    "              \"crew and a wonderful sunrise ! #Travel #Aircraft #a220 #airfrance #like #happy Good day everyone\"]"
   ]
  },
  {
   "cell_type": "code",
   "execution_count": 24,
   "metadata": {},
   "outputs": [
    {
     "data": {
      "text/plain": [
       "[\"Don't travel with @UnitedAirlines_ ! They lost my luggage 2 months ago on a flight to Vegas, after 5 days they asked me to fill a claim becausethey didn't know where my luggage was and specify what I had spent with receipts.\",\n",
       " 'Virgin Atlantic and LATAM Airlines have submitted an application to the US Department of Transportation for a codeshare agreement which will create good connectivity into three South American countries.',\n",
       " 'A wonderful flight to Paris on @airfrance done and dusted. Now for a short flight to Geneva on a beaut of a plane. I love the touch of the phone/iPad holders. @Club_Med_SA #clubmedtignes #AirFranceZA',\n",
       " 'Very nice trip back from HEL with the brand new @AirFranceFR A220-330 F-HZUN from on AF1177. As usual excellent experience on board with the efficientcrew and a wonderful sunrise ! #Travel #Aircraft #a220 #airfrance #like #happy Good day everyone']"
      ]
     },
     "execution_count": 24,
     "metadata": {},
     "output_type": "execute_result"
    }
   ],
   "source": [
    "new_tweets"
   ]
  },
  {
   "cell_type": "code",
   "execution_count": 25,
   "metadata": {},
   "outputs": [],
   "source": [
    "# Preprocesamos los nuevos tweets para limpiar el texto\n",
    "preprocess_new_tweets = [preprocess(tweet) for tweet in new_tweets]"
   ]
  },
  {
   "cell_type": "code",
   "execution_count": 26,
   "metadata": {},
   "outputs": [],
   "source": [
    "# Calculamos los vectores correspondientes a cada nuevo tweet\n",
    "vectors_new_tweets = [get_w2v_vectors(tweet) for tweet in preprocess_new_tweets]"
   ]
  },
  {
   "cell_type": "code",
   "execution_count": 27,
   "metadata": {},
   "outputs": [],
   "source": [
    "# Realizamos la predicción sobre estos nuevos tweets\n",
    "pred_new_tweets = gb_clf.predict(vectors_new_tweets)"
   ]
  },
  {
   "cell_type": "code",
   "execution_count": 28,
   "metadata": {},
   "outputs": [
    {
     "name": "stdout",
     "output_type": "stream",
     "text": [
      "Don't travel with @UnitedAirlines_ ! They lost my luggage 2 months ago on a flight to Vegas, after 5 days they asked me to fill a claim becausethey didn't know where my luggage was and specify what I had spent with receipts. ---> NEGATIVE\n",
      "Virgin Atlantic and LATAM Airlines have submitted an application to the US Department of Transportation for a codeshare agreement which will create good connectivity into three South American countries. ---> NEUTRAL\n",
      "A wonderful flight to Paris on @airfrance done and dusted. Now for a short flight to Geneva on a beaut of a plane. I love the touch of the phone/iPad holders. @Club_Med_SA #clubmedtignes #AirFranceZA ---> POSITIVE\n",
      "Very nice trip back from HEL with the brand new @AirFranceFR A220-330 F-HZUN from on AF1177. As usual excellent experience on board with the efficientcrew and a wonderful sunrise ! #Travel #Aircraft #a220 #airfrance #like #happy Good day everyone ---> POSITIVE\n"
     ]
    }
   ],
   "source": [
    "# Vemos el resultado para cada tweet\n",
    "for tweet, pred in zip(new_tweets, pred_new_tweets):\n",
    "    print(tweet, '--->', pred.upper())"
   ]
  }
 ],
 "metadata": {
  "kernelspec": {
   "display_name": "Python 3.7.11 ('trustaware')",
   "language": "python",
   "name": "python3"
  },
  "language_info": {
   "codemirror_mode": {
    "name": "ipython",
    "version": 3
   },
   "file_extension": ".py",
   "mimetype": "text/x-python",
   "name": "python",
   "nbconvert_exporter": "python",
   "pygments_lexer": "ipython3",
   "version": "3.7.11"
  },
  "orig_nbformat": 4,
  "vscode": {
   "interpreter": {
    "hash": "415bf093bb7c32384f83c305df05bcae34dbf408c68dbcd8cd24937de3807095"
   }
  }
 },
 "nbformat": 4,
 "nbformat_minor": 2
}
